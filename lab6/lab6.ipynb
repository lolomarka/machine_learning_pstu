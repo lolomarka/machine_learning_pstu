{
 "cells": [
  {
   "cell_type": "code",
   "execution_count": 1,
   "metadata": {},
   "outputs": [],
   "source": [
    "import os\n",
    "import urllib.request\n",
    "\n",
    "\n",
    "def download_file(file_link, filename):\n",
    "    # Checks if the file already exists before downloading\n",
    "    if not os.path.isfile(filename):\n",
    "        urllib.request.urlretrieve(file_link, filename)\n",
    "        print(\"File downloaded successfully.\")\n",
    "    else:\n",
    "        print(\"File already exists.\")\n",
    "\n",
    "# Dowloading GGML model from HuggingFace\n",
    "ggml_model_path = \"https://huggingface.co/TheBloke/zephyr-7B-beta-GGUF/resolve/main/zephyr-7b-beta.Q4_0.gguf\"\n",
    "filename = \"zephyr-7b-beta.Q4_0.gguf\"\n",
    "\n",
    "download_file(ggml_model_path, filename)\n"
   ]
  },
  {
   "cell_type": "code",
   "execution_count": null,
   "metadata": {},
   "outputs": [],
   "source": [
    "from llama_cpp import Llama\n",
    "\n",
    "llm = Llama(model_path=\"zephyr-7b-beta.Q4_0.gguf\", n_ctx=512, n_batch=126)\n"
   ]
  }
 ],
 "metadata": {
  "kernelspec": {
   "display_name": ".venv",
   "language": "python",
   "name": "python3"
  },
  "language_info": {
   "codemirror_mode": {
    "name": "ipython",
    "version": 3
   },
   "file_extension": ".py",
   "mimetype": "text/x-python",
   "name": "python",
   "nbconvert_exporter": "python",
   "pygments_lexer": "ipython3",
   "version": "3.12.3"
  }
 },
 "nbformat": 4,
 "nbformat_minor": 2
}
