{
 "cells": [
  {
   "cell_type": "markdown",
   "metadata": {},
   "source": [
    "1. Загружаем из наборов данных Scikit-learn breast cancer wisconsin dataset размерностью 30:\n",
    "2. Загружаем в отдельные переменные входные и выходные данные:"
   ]
  },
  {
   "cell_type": "code",
   "execution_count": 49,
   "metadata": {},
   "outputs": [],
   "source": [
    "from sklearn.datasets import load_breast_cancer\n",
    "\n",
    "data_full, target = load_breast_cancer(return_X_y=True)\n",
    "data = data_full[:, :30]"
   ]
  },
  {
   "cell_type": "markdown",
   "metadata": {},
   "source": [
    "Реализуем метод главных компонент в функции:"
   ]
  },
  {
   "cell_type": "code",
   "execution_count": 50,
   "metadata": {},
   "outputs": [],
   "source": [
    "import numpy as np\n",
    "\n",
    "def pca(X, k):\n",
    "    # Нормализуем данные\n",
    "    X_norm = X - X.mean(axis=0)\n",
    "    \n",
    "    # Построим матрицу ковариации\n",
    "    cov_matrix = np.cov(X_norm.T)\n",
    "    \n",
    "    # Диагонализируем матрицу\n",
    "    diagvalues, diagvectors = np.linalg.eig(cov_matrix)\n",
    "    \n",
    "    # Отсортируем векторы\n",
    "    idx = np.argsort(diagvalues)[::-1]\n",
    "    diagvalues = diagvalues[idx]\n",
    "    diagvectors = diagvectors[:, idx]\n",
    "    \n",
    "    # Оставим k главных компонент\n",
    "    diagvectors = diagvectors[:, :k]\n",
    "    \n",
    "    # Модифицируем исходные нормализованные данные\n",
    "    X_pca = np.dot(X_norm, diagvectors)\n",
    "    \n",
    "    return X_pca"
   ]
  },
  {
   "cell_type": "markdown",
   "metadata": {},
   "source": [
    "Загружаем те же данные во встроенную в Scikit-learn реализацию метода главных компонент:"
   ]
  },
  {
   "cell_type": "code",
   "execution_count": 51,
   "metadata": {},
   "outputs": [],
   "source": [
    "from sklearn.decomposition import PCA\n",
    "pca_sklearn = PCA(n_components=30)\n",
    "X_pca_sklearn = pca_sklearn.fit_transform(data)\n",
    "X_pca = pca(data, k=30)"
   ]
  },
  {
   "cell_type": "markdown",
   "metadata": {},
   "source": [
    "Сравниваем результаты нашей реализации и готовой:"
   ]
  },
  {
   "cell_type": "code",
   "execution_count": 52,
   "metadata": {},
   "outputs": [
    {
     "data": {
      "text/plain": [
       "array([[ 1.16014257e+03, -2.93917544e+02,  4.85783976e+01, ...,\n",
       "         1.29334919e-03, -1.98910417e-03,  7.04378359e-04],\n",
       "       [ 1.26912244e+03,  1.56301818e+01, -3.53945342e+01, ...,\n",
       "        -1.34685217e-03, -6.85925212e-04, -1.06125086e-03],\n",
       "       [ 9.95793889e+02,  3.91567432e+01, -1.70975298e+00, ...,\n",
       "         1.84867758e-05,  7.75218581e-04,  4.05360270e-04],\n",
       "       ...,\n",
       "       [ 3.14501756e+02,  4.75535252e+01, -1.04424072e+01, ...,\n",
       "         2.54369638e-05, -4.83858890e-04, -2.85342703e-04],\n",
       "       [ 1.12485812e+03,  3.41292250e+01, -1.97420874e+01, ...,\n",
       "         1.23547951e-03,  8.08728730e-04,  1.21655195e-03],\n",
       "       [-7.71527622e+02, -8.86431064e+01,  2.38890319e+01, ...,\n",
       "        -4.44552928e-03, -2.42876427e-04,  1.46800350e-03]])"
      ]
     },
     "execution_count": 52,
     "metadata": {},
     "output_type": "execute_result"
    }
   ],
   "source": [
    "X_pca"
   ]
  },
  {
   "cell_type": "code",
   "execution_count": 53,
   "metadata": {},
   "outputs": [
    {
     "data": {
      "text/plain": [
       "array([[ 1.16014257e+03, -2.93917544e+02,  4.85783976e+01, ...,\n",
       "         1.29334919e-03,  1.98910417e-03,  7.04378359e-04],\n",
       "       [ 1.26912244e+03,  1.56301818e+01, -3.53945342e+01, ...,\n",
       "        -1.34685217e-03,  6.85925212e-04, -1.06125086e-03],\n",
       "       [ 9.95793889e+02,  3.91567432e+01, -1.70975298e+00, ...,\n",
       "         1.84867758e-05, -7.75218581e-04,  4.05360270e-04],\n",
       "       ...,\n",
       "       [ 3.14501756e+02,  4.75535252e+01, -1.04424072e+01, ...,\n",
       "         2.54369638e-05,  4.83858890e-04, -2.85342703e-04],\n",
       "       [ 1.12485812e+03,  3.41292250e+01, -1.97420874e+01, ...,\n",
       "         1.23547951e-03, -8.08728730e-04,  1.21655195e-03],\n",
       "       [-7.71527622e+02, -8.86431064e+01,  2.38890319e+01, ...,\n",
       "        -4.44552928e-03,  2.42876427e-04,  1.46800350e-03]])"
      ]
     },
     "execution_count": 53,
     "metadata": {},
     "output_type": "execute_result"
    }
   ],
   "source": [
    "X_pca_sklearn"
   ]
  },
  {
   "cell_type": "markdown",
   "metadata": {},
   "source": [
    "Ну без графика, просто числа выглядят очень похоже.\n",
    "А график?"
   ]
  },
  {
   "cell_type": "code",
   "execution_count": 55,
   "metadata": {},
   "outputs": [
    {
     "data": {
      "image/png": "[encoded data removed]",
      "text/plain": [
       "<Figure size 640x480 with 1 Axes>"
      ]
     },
     "metadata": {},
     "output_type": "display_data"
    }
   ],
   "source": [
    "import matplotlib.pyplot as plt\n",
    "\n",
    "my_pca_explained_variance_ratio = np.var(X_pca, axis=0) / np.var(data, axis=0).sum()\n",
    "explained_variance_sklearn = pca_sklearn.explained_variance_ratio_\n",
    "plt.plot(range(1, 5), my_pca_explained_variance_ratio[0:4], label='Моя PCA')\n",
    "plt.plot(range(1, 5), explained_variance_sklearn[0:4], label='Scikit-learn PCA')\n",
    "plt.legend()\n",
    "plt.xlabel('Главные компоненты')\n",
    "plt.ylabel('Значения')\n",
    "plt.title('Scree plot')\n",
    "plt.grid()\n",
    "plt.show()"
   ]
  },
  {
   "cell_type": "markdown",
   "metadata": {},
   "source": [
    "Графики прям точь в точь"
   ]
  },
  {
   "cell_type": "markdown",
   "metadata": {},
   "source": [
    "Оптимальное количество главных компонент - 2?"
   ]
  }
 ],
 "metadata": {
  "kernelspec": {
   "display_name": "env",
   "language": "python",
   "name": "python3"
  },
  "language_info": {
   "codemirror_mode": {
    "name": "ipython",
    "version": 3
   },
   "file_extension": ".py",
   "mimetype": "text/x-python",
   "name": "python",
   "nbconvert_exporter": "python",
   "pygments_lexer": "ipython3",
   "version": "3.12.3"
  }
 },
 "nbformat": 4,
 "nbformat_minor": 2
}
